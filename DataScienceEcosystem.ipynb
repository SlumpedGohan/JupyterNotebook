{
 "cells": [
  {
   "cell_type": "markdown",
   "id": "1d9e503b-fc78-4912-aafc-b74ddd2a535a",
   "metadata": {},
   "source": [
    "# Data Science Tools and Ecosystem"
   ]
  },
  {
   "cell_type": "markdown",
   "id": "6c1790cf-2d54-4702-a6e9-d440ae3c90fb",
   "metadata": {},
   "source": [
    "In this notebook, Data Science Tools and Ecosystem are summarized."
   ]
  },
  {
   "cell_type": "markdown",
   "id": "3ba04386-50f7-4db5-835b-791178ef20ea",
   "metadata": {},
   "source": [
    "**Objectives:**\n",
    "* Popular languages\n",
    "* Libraries\n",
    "* Arithmetic Examples"
   ]
  },
  {
   "cell_type": "markdown",
   "id": "9e45262c-784a-40d1-9f91-727d8699d716",
   "metadata": {},
   "source": [
    "Some of the popular languages that Data Scientists use are:\n",
    "1. Python\n",
    "2. R\n",
    "3. SQL"
   ]
  },
  {
   "cell_type": "markdown",
   "id": "764301df-8af9-417d-8159-416b2642d82b",
   "metadata": {},
   "source": [
    "Some of the commonly used libraries used by Data Scientists include:\n",
    "1. Python Libraries\n",
    "2. Scientific computing libraries in python \n",
    "3. Visualization Libraries\n",
    "4. Machine Learning and Deep Learning Libraries"
   ]
  },
  {
   "cell_type": "markdown",
   "id": "4646e854-97f1-4e4d-b183-b6578fd0e00e",
   "metadata": {},
   "source": [
    "| Data Science Tools |\n",
    "|:------------------:|\n",
    "|     JupyterLab     |\n",
    "|      Anaconda      |\n",
    "| Visual Studio Code |"
   ]
  },
  {
   "cell_type": "markdown",
   "id": "dd870640-fc0e-44a3-b516-250a6d4422da",
   "metadata": {
    "tags": []
   },
   "source": [
    "### Below are a few examples of evaluating arithmetic expressions in Python"
   ]
  },
  {
   "cell_type": "code",
   "execution_count": 1,
   "id": "76507e81-845c-4986-a04d-2b6467898dcb",
   "metadata": {
    "tags": []
   },
   "outputs": [
    {
     "name": "stdout",
     "output_type": "stream",
     "text": [
      "17\n"
     ]
    }
   ],
   "source": [
    "# This is a simple arithmetic experssion to multiply then add integers\n",
    "x = (3*4) + 5\n",
    "print(x)"
   ]
  },
  {
   "cell_type": "code",
   "execution_count": 6,
   "id": "729d70d6-e0e7-4cc5-b544-cf2617767344",
   "metadata": {
    "tags": []
   },
   "outputs": [
    {
     "name": "stdout",
     "output_type": "stream",
     "text": [
      "3.3333333333333335\n"
     ]
    }
   ],
   "source": [
    "# this will convert 200 minutes to hours by dividing by 60\n",
    "print(200/60)"
   ]
  },
  {
   "cell_type": "markdown",
   "id": "4e84f65f-2aa6-44fc-90e4-750e40f90ea3",
   "metadata": {},
   "source": []
  }
 ],
 "metadata": {
  "kernelspec": {
   "display_name": "Python",
   "language": "python",
   "name": "conda-env-python-py"
  },
  "language_info": {
   "codemirror_mode": {
    "name": "ipython",
    "version": 3
   },
   "file_extension": ".py",
   "mimetype": "text/x-python",
   "name": "python",
   "nbconvert_exporter": "python",
   "pygments_lexer": "ipython3",
   "version": "3.7.12"
  }
 },
 "nbformat": 4,
 "nbformat_minor": 5
}
